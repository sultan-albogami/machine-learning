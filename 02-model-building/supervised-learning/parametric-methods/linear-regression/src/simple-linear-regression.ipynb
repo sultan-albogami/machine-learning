{
 "cells": [
  {
   "cell_type": "markdown",
   "metadata": {},
   "source": [
    "# Simple Linear Regression"
   ]
  },
  {
   "cell_type": "code",
   "execution_count": 1,
   "metadata": {},
   "outputs": [],
   "source": [
    "# Libraries and packages\n",
    "import numpy as np\n",
    "import pandas as pd\n",
    "import matplotlib.pyplot as plt\n",
    "from sklearn.linear_model import LinearRegression\n",
    "\n",
    "%matplotlib inline"
   ]
  },
  {
   "cell_type": "markdown",
   "metadata": {},
   "source": [
    "### Problem One\n",
    "\n",
    "Suppose an experiment involving 5 subjects is conducted to determine the relationship between\n",
    "the percentage of a certain drug in the bloodstream and the length of time it takes to react to a\n",
    "stimulus. The results are shown in the table.\n",
    "\n",
    "| $i$ | $Amount\\ of \\ Drug\\ (x)$ | $Reaction \\ Time \\ (y)$ | \n",
    "|:---:|:---:|:---:|\n",
    "| $0$ | $1$ | $1$ |\n",
    "| $1$ | $2$ | $1$ |\n",
    "| $2$ | $3$ | $2$ |         \n",
    "| $3$ | $4$ | $2$ |\n",
    "| $4$ | $5$ | $4$ |"
   ]
  },
  {
   "cell_type": "markdown",
   "metadata": {},
   "source": [
    "**a) Modeling**"
   ]
  },
  {
   "cell_type": "markdown",
   "metadata": {},
   "source": [
    "- The simple linear regression model is $y = \\beta_{0} + \\beta_{1}x + \\epsilon$, where $y$ is the reaction time, which is the dependent variable, the variable whose variation is to be explained. $x$ is the amount of drug, which is the independent or explanatory variable, $\\beta_{0}$ is the y-intercept and $\\beta_{1}$ is the slope of the line. $\\beta_{0}$ and $\\beta_{1}$ are the parameters to be estimated. $\\epsilon$ is the unexplained, random or error component.\n",
    "\n",
    "\n",
    "- From the sample of values of $x$ and $y$, estimates $\\hat{\\beta_{0}}$ of $\\beta_{0}$ and $\\hat{\\beta_{0}}$ of $\\beta_{1}$ are obtained using the least squares for this problem.\n",
    "\n",
    "\n",
    "- The resulting estimate of the model is as follows\n",
    "$$\\hat{y_i} = \\hat{\\beta_{0}} + \\hat{\\beta_{1}}x_i$$\n",
    "\n",
    "\n",
    "- where,  \n",
    "$$\\hat{\\beta_{1}} = \\frac {SS_{xy}}{SS_{xx}} = \\frac {\\sum_i^n(x_i - \\bar{x})(y_i - \\bar{y})}{\\sum_i^n(x_i - \\bar{x})^2}$$\n",
    "\n",
    "- and\n",
    "$$\\hat{\\beta_{0}} = \\bar{y} - \\hat{\\beta_{1}} \\bar{x}$$\n",
    "\n",
    "\n",
    "Now let us solve for $\\hat{\\beta_{1}}$:\n",
    "\n",
    "$$\\bar{x} = \\frac {1+2+3+4+5}{5}= \\frac{15}{5}=3$$ \n",
    "\n",
    "$$\\bar{y} = \\frac {1+1+2+2+4}{5}= \\frac{10}{5}=2$$\n",
    "\n",
    "<br>\n",
    "\n",
    "| $x$ | $y$ | $(x_i - \\bar{x})$ | $(y_i - \\bar{y})$ | $(x_i - \\bar{x})(y_i - \\bar{y})$ | $(x_i - \\bar{x})^2$ |\n",
    "|:---:|:---:|:-----------------:|:-----------------:|:--------------------------------:|:-------------------:|\n",
    "| $1$ | $1$ |  $(1 - 3) = -2$   |  $(1 - 2) = -1$\t|           $(-2)(-1) = 2$\t       |     $(-2)^2 = 4$    |\n",
    "| $2$ | $1$ |  $(2 - 3) = -1$   |  $(1 - 2) = -1$\t|           $(-1)(-1) = 1$         |     $(-1)^2 = 1$    |\n",
    "| $3$ | $2$ |  $(3 - 3) = 0$    |  $(2 - 2) = 0$\t|           $(0)(0) = 0$           |     $(0)^2  = 0$    |          \n",
    "| $4$ | $2$ |  $(4 - 3) = 1$    |  $(2 - 2) = 0$\t|           $(1)(0) = 0$           |     $(1)^2  = 1$    |\n",
    "| $5$ | $4$ |  $(5 - 3) = 2$    |  $(4 - 2) = 2$\t|           $(2)(2) = 4$           |     $(2)^2  = 4$    |\n",
    "|     |     |                   |     $sum: $     \t|               $7$                |          $10$       |\n",
    "\n",
    "\n",
    "$$\\hat{\\beta_{1}} = \\frac{7}{10} = 0.7$$\n",
    "\n",
    "\n",
    "$$\\hat{\\beta_{0}} = 2 - .7(3) = -0.1‬$$\n",
    "\n",
    "\n",
    "Hence, \n",
    "\n",
    "\n",
    "$$\\hat{y_i} = -0.1‬ + \\ 0.7(x_i)$$"
   ]
  },
  {
   "cell_type": "markdown",
   "metadata": {},
   "source": [
    "**Verifying the answers using sklearn**"
   ]
  },
  {
   "cell_type": "code",
   "execution_count": 2,
   "metadata": {},
   "outputs": [],
   "source": [
    "# Get the dataset\n",
    "expeirment_data = pd.read_csv(r'../data/drug-experiment-data.csv')"
   ]
  },
  {
   "cell_type": "code",
   "execution_count": 3,
   "metadata": {},
   "outputs": [
    {
     "data": {
      "text/plain": [
       "LinearRegression(copy_X=True, fit_intercept=True, n_jobs=None, normalize=False)"
      ]
     },
     "execution_count": 3,
     "metadata": {},
     "output_type": "execute_result"
    }
   ],
   "source": [
    "# We have to convert the columns into numpy arrays\n",
    "# expeirment_data.iloc[:,0].value will extract the first column of expeirment_data\n",
    "# reshape(-1,1) is needed to get a column vector\n",
    "\n",
    "X = expeirment_data.iloc[:,0].values.reshape(-1, 1) \n",
    "Y = expeirment_data.iloc[:,1].values.reshape(-1, 1)\n",
    "\n",
    "#Specify the regressor and fit the data\n",
    "regressor = LinearRegression()\n",
    "regressor.fit(X,Y)"
   ]
  },
  {
   "cell_type": "code",
   "execution_count": 4,
   "metadata": {},
   "outputs": [
    {
     "data": {
      "text/plain": [
       "array([[0.6],\n",
       "       [1.3],\n",
       "       [2. ],\n",
       "       [2.7],\n",
       "       [3.4]])"
      ]
     },
     "execution_count": 4,
     "metadata": {},
     "output_type": "execute_result"
    }
   ],
   "source": [
    "y_pred = regressor.predict(X)\n",
    "y_pred"
   ]
  },
  {
   "cell_type": "code",
   "execution_count": 5,
   "metadata": {},
   "outputs": [
    {
     "name": "stdout",
     "output_type": "stream",
     "text": [
      "[[0.7]]\n"
     ]
    }
   ],
   "source": [
    "# Computing the Coefficient (the slope of the line)\n",
    "print(regressor.coef_)"
   ]
  },
  {
   "cell_type": "code",
   "execution_count": 6,
   "metadata": {},
   "outputs": [
    {
     "name": "stdout",
     "output_type": "stream",
     "text": [
      "[-0.1]\n"
     ]
    }
   ],
   "source": [
    "# Computing the Y-intercept\n",
    "print(regressor.intercept_)"
   ]
  },
  {
   "cell_type": "code",
   "execution_count": 7,
   "metadata": {},
   "outputs": [
    {
     "data": {
      "image/png": "[encoded data removed]",
      "text/plain": [
       "<Figure size 432x288 with 1 Axes>"
      ]
     },
     "metadata": {
      "needs_background": "light"
     },
     "output_type": "display_data"
    }
   ],
   "source": [
    "# Plot \n",
    "plt.scatter(X,Y,color = 'red')\n",
    "plt.plot(X,y_pred,color = 'blue')\n",
    "plt.title('Linear Regression for The Drug Expeirment')\n",
    "plt.xlabel('Amount of Drug X (%)')\n",
    "plt.ylabel('Reaction Time Y (sec)')    \n",
    "plt.show()"
   ]
  },
  {
   "cell_type": "markdown",
   "metadata": {},
   "source": [
    "**b) Interpreting the estimated slope term.**"
   ]
  },
  {
   "cell_type": "markdown",
   "metadata": {},
   "source": [
    "<div style=\"text-align: justify\"> There is a positive, linear relationship between the amount of drug and reaction time. For every 1 percent increase in the amount of drug, the reaction time is expected to increase by .7 seconds.</div> "
   ]
  },
  {
   "cell_type": "markdown",
   "metadata": {},
   "source": [
    "**c) Suppose a patient had 2.5% of the drug, what is their predicted reaction time in seconds?**"
   ]
  },
  {
   "cell_type": "markdown",
   "metadata": {},
   "source": [
    "Recall that \n",
    "\n",
    "$$\\hat{y_i} = -0.1‬ + \\ 0.7(x_i)$$\n",
    "\n",
    "That is, \n",
    "\n",
    "$$\\hat{Reaction \\ Time} = -0.1‬ + \\ 0.7(Amount \\ of \\ Drug)$$\n",
    "\n",
    "$$\\hat{Reaction \\ Time} = -0.1‬ + \\ 0.7(2.5) = 1.65 \\ sec$$"
   ]
  },
  {
   "cell_type": "markdown",
   "metadata": {},
   "source": [
    "**Verifying our answer to c)**"
   ]
  },
  {
   "cell_type": "code",
   "execution_count": 8,
   "metadata": {},
   "outputs": [
    {
     "name": "stdout",
     "output_type": "stream",
     "text": [
      "[[1.65]]\n"
     ]
    }
   ],
   "source": [
    "# Argument passed to prdeict must be 2d array\n",
    "print(regressor.predict([[2.5]]))"
   ]
  },
  {
   "cell_type": "markdown",
   "metadata": {},
   "source": [
    "**d) Computing $R^2$**"
   ]
  },
  {
   "cell_type": "markdown",
   "metadata": {},
   "source": [
    "R² is a statistical measure in a regression model that\n",
    "determines how well the data fit the regression model\n",
    "(the goodness of fit).\n",
    "\n",
    "- R² can take any value between 0 to 1.\n",
    "- In general, the closer to 1, the better the model.\n",
    "\n",
    "$$R^2 = 1 - \\frac {Sum \\ of \\ squared \\ distances \\ between \\ the \\ actual \\ and \\ predicted \\ Y \\ values}{Sum \\ of \\ squared \\ distances \\ between \\ the \\ actual \\ Y \\ values \\ and \\ their \\ mean}$$\n",
    "\n",
    "\n",
    "$$R^2 = 1 - \\frac {\\sum_i^n (y_i - \\hat{y_i})^2}{\\sum_i^n (y_i - \\bar{y})^2}$$\n",
    "\n",
    "\n",
    "\n",
    "<br>\n",
    "\n",
    "|  $x_i$  | $y_i$ | $\\hat{y}$ | $(y_i - \\hat{y_i})$ | $(y_i - \\hat{y_i})^2$ |  $(y_i - \\bar{y})$ | $(y_i - \\bar{y})^2$ |\n",
    "|:-------:|:-----:|:---------:|:-------------------:|:---------------------:|:--------------------:|:-----------------:|\n",
    "|   $1$   |  $1$  |   $0.6$   |  \t$\\ \\ \\ 0.4$     |          $0.16$       |         $-1$         |         $1$       |\n",
    "|   $2$   |  $1$  |   $1.3$   | \t  $-0.3$        |          $0.09$       |         $-1$         |         $1$       |\n",
    "|   $3$   |  $2$  |   $2.0$   | \t $\\ \\ \\ 0$      |          $0$          |         $\\ 0$        |         $0$       |  \n",
    "|   $4$   |  $2$  |   $2.7$   | \t  $-0.7$        |          $0.49$       |         $\\ 0$        |         $0$       |\n",
    "|   $5$   |  $4$  |   $3.4$   | \t$\\ \\ \\ 0.6$     |          $0.36$       |         $\\ 2$        |         $4$       |\n",
    "| $mean:$ |  $2$  |           |       $sum: $       |          $1.10$       |        $sum: $       |         $6$       |\n",
    "\n",
    "So, \n",
    "\n",
    "$$R^2 = 1 - \\frac {1.10}{6} \\ = \\ 0.82$$"
   ]
  },
  {
   "cell_type": "markdown",
   "metadata": {},
   "source": [
    "**Verify result of d)**"
   ]
  },
  {
   "cell_type": "code",
   "execution_count": 9,
   "metadata": {},
   "outputs": [
    {
     "data": {
      "text/plain": [
       "0.8166666666666667"
      ]
     },
     "execution_count": 9,
     "metadata": {},
     "output_type": "execute_result"
    }
   ],
   "source": [
    "# Computing R^2 using sklearn\n",
    "from sklearn.metrics import r2_score\n",
    "r2_score(Y,y_pred)"
   ]
  },
  {
   "cell_type": "markdown",
   "metadata": {},
   "source": [
    "---\n",
    "\n",
    "### Problem Two\n",
    "\n",
    "Data on the average poverty rate and obesity percentage in all 50 states and D.C. were collected\n",
    "over a period of three years: from 2008 to 2010. We want to explore the relationship between\n",
    "poverty and obesity.\n",
    "\n",
    "![](../util/img/problem-two-img-01.png)\n",
    "\n",
    "![](../util/img/problem-two-img-02.png)"
   ]
  },
  {
   "cell_type": "markdown",
   "metadata": {},
   "source": [
    "**a) Using linear regression to model the data, where the independent data (X) is the poverty rate, and the dependent data (Y) is the obesity percentage.**"
   ]
  },
  {
   "cell_type": "code",
   "execution_count": 10,
   "metadata": {},
   "outputs": [
    {
     "data": {
      "text/html": [
       "<div>\n",
       "<style scoped>\n",
       "    .dataframe tbody tr th:only-of-type {\n",
       "        vertical-align: middle;\n",
       "    }\n",
       "\n",
       "    .dataframe tbody tr th {\n",
       "        vertical-align: top;\n",
       "    }\n",
       "\n",
       "    .dataframe thead th {\n",
       "        text-align: right;\n",
       "    }\n",
       "</style>\n",
       "<table border=\"1\" class=\"dataframe\">\n",
       "  <thead>\n",
       "    <tr style=\"text-align: right;\">\n",
       "      <th></th>\n",
       "      <th>x</th>\n",
       "      <th>y</th>\n",
       "    </tr>\n",
       "  </thead>\n",
       "  <tbody>\n",
       "    <tr>\n",
       "      <td>0</td>\n",
       "      <td>16.1</td>\n",
       "      <td>32.3</td>\n",
       "    </tr>\n",
       "    <tr>\n",
       "      <td>1</td>\n",
       "      <td>10.8</td>\n",
       "      <td>25.9</td>\n",
       "    </tr>\n",
       "    <tr>\n",
       "      <td>2</td>\n",
       "      <td>19.2</td>\n",
       "      <td>25.4</td>\n",
       "    </tr>\n",
       "    <tr>\n",
       "      <td>3</td>\n",
       "      <td>16.5</td>\n",
       "      <td>30.6</td>\n",
       "    </tr>\n",
       "    <tr>\n",
       "      <td>4</td>\n",
       "      <td>15.4</td>\n",
       "      <td>24.8</td>\n",
       "    </tr>\n",
       "  </tbody>\n",
       "</table>\n",
       "</div>"
      ],
      "text/plain": [
       "      x     y\n",
       "0  16.1  32.3\n",
       "1  10.8  25.9\n",
       "2  19.2  25.4\n",
       "3  16.5  30.6\n",
       "4  15.4  24.8"
      ]
     },
     "execution_count": 10,
     "metadata": {},
     "output_type": "execute_result"
    }
   ],
   "source": [
    "# get the dataset\n",
    "po_data = pd.read_csv(r'../data/poverty-and-obesity-data.csv')\n",
    "po_data.head()"
   ]
  },
  {
   "cell_type": "code",
   "execution_count": 11,
   "metadata": {},
   "outputs": [],
   "source": [
    "X = po_data.iloc[:,0].values.reshape(-1, 1) \n",
    "Y = po_data.iloc[:,1].values.reshape(-1, 1) \n",
    "regressor.fit(X,Y)\n",
    "y_pred = regressor.predict(X)"
   ]
  },
  {
   "cell_type": "code",
   "execution_count": 12,
   "metadata": {},
   "outputs": [
    {
     "name": "stdout",
     "output_type": "stream",
     "text": [
      "[[0.50964086]]\n"
     ]
    }
   ],
   "source": [
    "# Computing the Coefficient (the slope of the line)\n",
    "print(regressor.coef_)"
   ]
  },
  {
   "cell_type": "code",
   "execution_count": 13,
   "metadata": {},
   "outputs": [
    {
     "name": "stdout",
     "output_type": "stream",
     "text": [
      "[20.32345114]\n"
     ]
    }
   ],
   "source": [
    "# Computing the Y-intercept\n",
    "print(regressor.intercept_)"
   ]
  },
  {
   "cell_type": "code",
   "execution_count": 14,
   "metadata": {},
   "outputs": [
    {
     "data": {
      "image/png": "[encoded data removed]",
      "text/plain": [
       "<Figure size 432x288 with 1 Axes>"
      ]
     },
     "metadata": {
      "needs_background": "light"
     },
     "output_type": "display_data"
    }
   ],
   "source": [
    "# plot using scatter plot\n",
    "plt.scatter(X,Y,color = 'red')\n",
    "plt.plot(X,y_pred,color = 'blue')\n",
    "plt.title('Linear Regression for Poverty and Obesity Data')\n",
    "plt.xlabel('Poverty Rate X')\n",
    "plt.ylabel('Obesity Percentage Y')\n",
    "plt.show()"
   ]
  },
  {
   "cell_type": "markdown",
   "metadata": {},
   "source": [
    "**b) Interpreting the estimated slope term.**"
   ]
  },
  {
   "cell_type": "markdown",
   "metadata": {},
   "source": [
    "<div style=\"text-align: justify\"> As may be seen in the scatter plot, the relationship between poverty rates and obesity percentages from 2008 to 2010 is linear, positive and of medium strength. For every 1 percent increase in the poverty rate, the obesity percentage is expected to increase by 0.51 points.</div>"
   ]
  },
  {
   "cell_type": "markdown",
   "metadata": {},
   "source": [
    "**c) Compute $R^2$.**"
   ]
  },
  {
   "cell_type": "code",
   "execution_count": 15,
   "metadata": {},
   "outputs": [
    {
     "data": {
      "text/plain": [
       "0.25127447362473154"
      ]
     },
     "execution_count": 15,
     "metadata": {},
     "output_type": "execute_result"
    }
   ],
   "source": [
    "# Compute the R^2 Score\n",
    "r2_score(Y,y_pred)"
   ]
  },
  {
   "cell_type": "markdown",
   "metadata": {},
   "source": [
    "---\n",
    "<h4><center>Works Cited<center><h4>"
   ]
  },
  {
   "cell_type": "markdown",
   "metadata": {},
   "source": [
    "Tan, Pang-Ning, et al. *Introduction to Data Mining.* Pearson, 2020.\n",
    "\n",
    "Khuri, Sami. \"Chapter 03: Modeling and Prediction\" Big Data and Machine Learning CSC410/610, 20 Feb. 2020, University of North Carolina at Greensboro. PDF presentation. "
   ]
  },
  {
   "cell_type": "code",
   "execution_count": null,
   "metadata": {},
   "outputs": [],
   "source": []
  }
 ],
 "metadata": {
  "kernelspec": {
   "display_name": "Python 3",
   "language": "python",
   "name": "python3"
  },
  "language_info": {
   "codemirror_mode": {
    "name": "ipython",
    "version": 3
   },
   "file_extension": ".py",
   "mimetype": "text/x-python",
   "name": "python",
   "nbconvert_exporter": "python",
   "pygments_lexer": "ipython3",
   "version": "3.7.4"
  }
 },
 "nbformat": 4,
 "nbformat_minor": 2
}
